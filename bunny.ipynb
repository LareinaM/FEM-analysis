{
 "cells": [
  {
   "cell_type": "code",
   "execution_count": 1,
   "metadata": {},
   "outputs": [
    {
     "name": "stdout",
     "output_type": "stream",
     "text": [
      "/Users/wuyifan/Desktop/Summer research/fem\n"
     ]
    }
   ],
   "source": [
    "cd Desktop/Summer\\ research/fem/"
   ]
  },
  {
   "cell_type": "code",
   "execution_count": 3,
   "metadata": {},
   "outputs": [
    {
     "name": "stdout",
     "output_type": "stream",
     "text": [
      "[2020-05-26 16:00:37.497] [polyfem] [info] Loading mesh...\n",
      "[2020-05-26 16:00:37.507] [geogram] [info] Loading file out_bunny_s.mesh...\n",
      "[2020-05-26 16:00:37.621] [geogram] [info] (FP64) nb_v:4896 nb_e:0 nb_f:6068 nb_b:0 tri:1 dim:3\n",
      "[2020-05-26 16:00:37.621] [geogram] [info]  nb_tets:18832\n",
      "[2020-05-26 16:00:37.621] [geogram] [info] Attributes on vertices: point[3]\n",
      "[2020-05-26 16:00:37.948] [polyfem] [info] mesh bb min [-0.0943395, 0.0319048, -0.0616427], max [0.0607677, 0.186996, 0.0587146]\n",
      "[2020-05-26 16:00:37.949] [polyfem] [info]  took 0.452898s\n"
     ]
    }
   ],
   "source": [
    "import numpy as np\n",
    "import math\n",
    "import igl\n",
    "import meshplot as mp\n",
    "import wildmeshing as wm\n",
    "import polyfempy as pf\n",
    "\n",
    "V, F = igl.read_triangle_mesh(\"data/bunny_s.obj\")\n",
    "#p1 = mp.plot(V, F, shading={\"wireframe\": True}, return_plot=True)\n",
    "#p1.add_points(V, shading={\"point_color\": \"blue\", \"point_size\": 0.5});\n",
    "#p1.save(\"cylinder\")\n",
    "\n",
    "#wm.tetrahedralize(\"data/bunny_s.obj\", \"out_bunny_s.mesh\", mute_log=True)\n",
    "solver = pf.Solver()\n",
    "solver.load_mesh_from_path(\"out_bunny_s.mesh\")"
   ]
  },
  {
   "cell_type": "code",
   "execution_count": 19,
   "metadata": {},
   "outputs": [
    {
     "data": {
      "application/vnd.jupyter.widget-view+json": {
       "model_id": "cae69f5dc2c54f179d08465e57cacd44",
       "version_major": 2,
       "version_minor": 0
      },
      "text/plain": [
       "Renderer(camera=PerspectiveCamera(children=(DirectionalLight(color='white', intensity=0.6, position=(-0.016785…"
      ]
     },
     "metadata": {},
     "output_type": "display_data"
    },
    {
     "name": "stdout",
     "output_type": "stream",
     "text": [
      "Plot saved to file col_bunny_s.html.\n"
     ]
    }
   ],
   "source": [
    "minn = np.min(V, axis=0)\n",
    "maxx = np.max(V, axis=0)\n",
    "\n",
    "def sideset(p):\n",
    "    if p[1]<=minn[1]+0.005:\n",
    "        return 1\n",
    "    elif p[1]>=maxx[1]-0.03:\n",
    "        return 2\n",
    "    return 3\n",
    "solver.set_boundary_side_set_from_bary(sideset)\n",
    "ps, ts, s = solver.get_boundary_sidesets()\n",
    "\n",
    "e1 = ps[s[:,0] == 1, :]\n",
    "e2 = ps[s[:,0] == 2, :]\n",
    "e3 = ps[s[:,0] == 3, :]\n",
    "\n",
    "col = np.zeros_like(s); col[s==2] = 2; col[s==3] = 3\n",
    "plot2 = mp.plot(ps, ts, col, return_plot=True)\n",
    "#plot2.add_points(e2, shading={\"point_color\": \"red\", \"point_size\": 0.05})\n",
    "#plot2.add_points(e3, shading={\"point_color\": \"blue\", \"point_size\": 0.05})\n",
    "plot2.save(\"col_bunny_s\")"
   ]
  },
  {
   "cell_type": "code",
   "execution_count": 20,
   "metadata": {},
   "outputs": [
    {
     "name": "stdout",
     "output_type": "stream",
     "text": [
      "[2020-05-26 16:07:20.347] [polyfem] [info] simplex_count: \t18832\n",
      "[2020-05-26 16:07:20.347] [polyfem] [info] regular_count: \t0\n",
      "[2020-05-26 16:07:20.347] [polyfem] [info] regular_boundary_count: \t0\n",
      "[2020-05-26 16:07:20.347] [polyfem] [info] simple_singular_count: \t0\n",
      "[2020-05-26 16:07:20.347] [polyfem] [info] multi_singular_count: \t0\n",
      "[2020-05-26 16:07:20.347] [polyfem] [info] boundary_count: \t0\n",
      "[2020-05-26 16:07:20.347] [polyfem] [info] multi_singular_boundary_count: \t0\n",
      "[2020-05-26 16:07:20.347] [polyfem] [info] non_regular_count: \t0\n",
      "[2020-05-26 16:07:20.347] [polyfem] [info] non_regular_boundary_count: \t0\n",
      "[2020-05-26 16:07:20.347] [polyfem] [info] undefined_count: \t0\n",
      "[2020-05-26 16:07:20.347] [polyfem] [info] total count:\t 18832\n",
      "[2020-05-26 16:07:20.347] [polyfem] [info] Building isoparametric basis...\n",
      "[2020-05-26 16:07:20.428] [polyfem] [info] Computing polygonal basis...\n",
      "[2020-05-26 16:07:20.428] [polyfem] [info]  took 1.5812e-05s\n",
      "[2020-05-26 16:07:20.433] [polyfem] [info] hmin: 0.00049344\n",
      "[2020-05-26 16:07:20.433] [polyfem] [info] hmax: 0.0191933\n",
      "[2020-05-26 16:07:20.433] [polyfem] [info] havg: 0.00629127\n",
      "[2020-05-26 16:07:20.434] [polyfem] [info]  took 0.0804655s\n",
      "[2020-05-26 16:07:20.434] [polyfem] [info] flipped elements 0\n",
      "[2020-05-26 16:07:20.434] [polyfem] [info] h: 0.0191933\n",
      "[2020-05-26 16:07:20.434] [polyfem] [info] n bases: 4896\n",
      "[2020-05-26 16:07:20.434] [polyfem] [info] n pressure bases: 0\n",
      "[2020-05-26 16:07:20.434] [polyfem] [info] Assigning rhs...\n",
      "[2020-05-26 16:07:20.495] [polyfem] [info]  took 0.0614426s\n",
      "[2020-05-26 16:07:20.495] [polyfem] [info] Assembling stiffness mat...\n",
      "[2020-05-26 16:07:20.757] [polyfem] [info]  took 0.261969s\n",
      "[2020-05-26 16:07:20.757] [polyfem] [info] sparsity: 525762/215737344\n",
      "[2020-05-26 16:07:20.757] [polyfem] [info] Solving LinearElasticity with\n",
      "[2020-05-26 16:07:20.757] [polyfem] [info] Hypre...\n"
     ]
    }
   ],
   "source": [
    "settings = pf.Settings()\n",
    "problem = pf.Problem()\n",
    "\n",
    "settings.set_pde(pf.PDEs.LinearElasticity)\n",
    "\n",
    "settings.set_material_params(\"E\", 200)\n",
    "settings.set_material_params(\"nu\", 0.35)\n",
    "\n",
    "# set the displacement value for the sideset id\n",
    "problem.set_displacement(1, [0, 0, 0])\n",
    "problem.set_force(3, [2, 0, 0])\n",
    "\n",
    "settings.set_problem(problem)\n",
    "\n",
    "solver.settings(settings)\n",
    "solver.solve()\n",
    "\n",
    "p, tri, disp = solver.get_sampled_solution()\n",
    "#print(len(p),len(ps),len(s))\n",
    "m = np.linalg.norm(disp, axis=1)"
   ]
  },
  {
   "cell_type": "code",
   "execution_count": 21,
   "metadata": {},
   "outputs": [
    {
     "data": {
      "application/vnd.jupyter.widget-view+json": {
       "model_id": "af38ee9390ed4c71895b5419404ebe1a",
       "version_major": 2,
       "version_minor": 0
      },
      "text/plain": [
       "Renderer(camera=PerspectiveCamera(children=(DirectionalLight(color='white', intensity=0.6, position=(-0.001916…"
      ]
     },
     "metadata": {},
     "output_type": "display_data"
    },
    {
     "name": "stdout",
     "output_type": "stream",
     "text": [
      "Plot saved to file bunny_[1.5,0,0].html.\n"
     ]
    }
   ],
   "source": [
    "plot = mp.plot(v=p+disp, f=tri, c=m, return_plot=True)\n",
    "plot.save(\"bunny_\")"
   ]
  },
  {
   "cell_type": "code",
   "execution_count": null,
   "metadata": {},
   "outputs": [],
   "source": []
  }
 ],
 "metadata": {
  "kernelspec": {
   "display_name": "Python 3",
   "language": "python",
   "name": "python3"
  },
  "language_info": {
   "codemirror_mode": {
    "name": "ipython",
    "version": 3
   },
   "file_extension": ".py",
   "mimetype": "text/x-python",
   "name": "python",
   "nbconvert_exporter": "python",
   "pygments_lexer": "ipython3",
   "version": "3.8.2"
  }
 },
 "nbformat": 4,
 "nbformat_minor": 4
}
