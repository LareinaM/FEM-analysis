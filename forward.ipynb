{
 "cells": [
  {
   "cell_type": "code",
   "execution_count": 4,
   "metadata": {},
   "outputs": [
    {
     "name": "stdout",
     "output_type": "stream",
     "text": [
      "[Errno 2] No such file or directory: 'Desktop/Summer research/'\n",
      "/Users/wuyifan/Desktop/Summer research\n"
     ]
    }
   ],
   "source": [
    "cd Desktop/Summer\\ research/"
   ]
  },
  {
   "cell_type": "code",
   "execution_count": 45,
   "metadata": {},
   "outputs": [],
   "source": [
    "import numpy as np\n",
    "import math\n",
    "import igl\n",
    "import meshplot as mp\n",
    "import wildmeshing as wm\n",
    "import polyfempy as pf\n",
    "import scipy.sparse as sp\n",
    "import random\n",
    "import os\n",
    "\n",
    "name = \"cuboid\"\n",
    "path = \"fem/data/\"+name+\"_l\"+\".obj\"\n",
    "out = \"fem/out/out_\"+name+\"_260\"+\".mesh\"\n",
    "\n",
    "def add_axis(plot, plot1):\n",
    "    plot.add_lines(np.array([[0,0,0],[50,0,0],[50,0,0]]), np.array([[50,0,0],[48,2,0],[48,-2,0]]), shading={\"line_color\": \"blue\"})\n",
    "    plot.add_lines(np.array([[0,0,0],[0,50,0],[0,50,0]]), np.array([[0,50,0],[-2,48,0],[2,48,0]]), shading={\"line_color\": \"red\"})\n",
    "    plot.add_lines(np.array([[0,0,0],[0,0,50],[0,0,50]]), np.array([[0,0,50],[0,2,48],[0,-2,48]]), shading={\"line_color\": \"yellow\"})\n",
    "    plot1.add_lines(np.array([[0,0,0],[50,0,0],[50,0,0]]), np.array([[50,0,0],[48,2,0],[48,-2,0]]), shading={\"line_color\": \"blue\"})\n",
    "    plot1.add_lines(np.array([[0,0,0],[0,50,0],[0,50,0]]), np.array([[0,50,0],[-2,48,0],[2,48,0]]), shading={\"line_color\": \"red\"})\n",
    "    plot1.add_lines(np.array([[0,0,0],[0,0,50],[0,0,50]]), np.array([[0,0,50],[0,2,48],[0,-2,48]]), shading={\"line_color\": \"yellow\"})\n",
    "    \n",
    "def add_force(plot, plot1, mag, force_ax, ex):\n",
    "    mag = np.array(mag)\n",
    "    dir1 = -mag/4\n",
    "    dir2 = -mag/4\n",
    "    arrow_ax = random.randint(0,2)\n",
    "    \n",
    "    minn = np.min(ex, axis=0)\n",
    "    maxx = np.max(ex, axis=0)\n",
    "    center = (minn+maxx)/2\n",
    "    \n",
    "    while arrow_ax == force_ax:\n",
    "        arrow_ax = random.randint(0,2)\n",
    "    rand = np.array([0,0,0]) # random.randint(0,1),random.randint(0,1),random.randint(0,1)\n",
    "    rand[arrow_ax] = 2\n",
    "    \n",
    "    dir1 += rand\n",
    "    dir2 += -rand\n",
    "    ex = ps[s[:,0] == force, :]\n",
    "    mag1 = mag*2\n",
    "    \n",
    "    e1 = np.vstack((np.vstack((center+mag1, center+mag1)), center+mag1))\n",
    "    e2 = np.vstack((np.vstack((center-mag1, center+mag1+dir1)), center+mag1+dir2))\n",
    "    plot.add_lines(e1, e2, shading={\"line_color\": \"black\", \"line_width\": 5.0})\n",
    "    \n",
    "    #plot.add_points(np.array([center]), shading={\"point_color\": \"white\", \"point_size\": 10})\n",
    "    \n",
    "    plot1.add_lines(e1, e2, shading={\"line_color\": \"black\", \"line_width\": 5.0})\n",
    "    \n",
    "    \"\"\"\n",
    "    e11 = np.vstack((np.vstack((ex[0:5]+mag1, ex[0:5]+mag1)), ex[0:5]+mag1))\n",
    "    e12 = np.vstack((np.vstack((ex[0:5]-mag1, ex[0:5]+mag1+dir1)), ex[0:5]+mag1+dir2))\n",
    "    plot.add_lines(e11, e12, shading={\"line_color\": \"black\"})\n",
    "    e13 = np.vstack((np.vstack((ex[50:55]+mag1, ex[50:55]+mag1)), ex[50:55]+mag1))\n",
    "    e14 = np.vstack((np.vstack((ex[50:55]-mag1, ex[50:55]+mag1+dir1)), ex[50:55]+mag1+dir2))\n",
    "    plot.add_lines(e13, e14, shading={\"line_color\": \"black\"})\n",
    "    \"\"\"\n",
    "    \n",
    "def add_fix(plot, plot1):\n",
    "    plot.add_lines(np.array([[-40, -10, -16],[-40, -10, 16],[40, -10, -16],[-40, -10, -16]]), np.array([[40, -10, -16],[40, -10, 16],[40, -10, 16],[-40, -10, 16]]), shading={\"line_color\": \"brown\", \"line_width\": 2.5})\n",
    "    #plot.add_points(e2, shading={\"point_color\": \"white\", \"point_size\": 4})\n",
    "    plot1.add_lines(np.array([[-40, -10, -16],[-40, -10, 16],[40, -10, -16],[-40, -10, -16]]), np.array([[40, -10, -16],[40, -10, 16],[40, -10, 16],[-40, -10, 16]]), shading={\"line_color\": \"brown\", \"line_width\": 2.5})\n",
    "    \n",
    "    \n",
    "def collect_result(path_y):\n",
    "    #print(len(files_y))\n",
    "\n",
    "    y_f = open(path_y)\n",
    "    with y_f as file:\n",
    "        y = np.array([[float(digit) for digit in line.split()] for line in file])\n",
    "    return y\n",
    "\n",
    "def plot_error(p_uni, t_uni, stress_result, mises_u):\n",
    "    \n",
    "    \n",
    "    stress_result = stress_result.reshape(260,1)\n",
    "    print(stress_result.shape)\n",
    "    print(mises_u.shape)\n",
    "    dif = mises_u - stress_result\n",
    "    print(dif.shape)\n",
    "    plot = mp.plot(p_uni, t_uni, dif, return_plot=True)\n",
    "    plot.save(\"fem/plots/error_\" + str(loss) + \"_\" + str(force) + str(mag))\n",
    "    "
   ]
  },
  {
   "cell_type": "code",
   "execution_count": 30,
   "metadata": {},
   "outputs": [
    {
     "name": "stdout",
     "output_type": "stream",
     "text": [
      "[2020-07-02 18:12:43.578] [polyfem] [info] Loading mesh...\n",
      "[2020-07-02 18:12:43.578] [geogram] [info] Loading file fem/out/out_cuboid_260.mesh...\n",
      "[2020-07-02 18:12:43.584] [geogram] [info] (FP64) nb_v:260 nb_e:0 nb_f:386 nb_b:0 tri:1 dim:3\n",
      "[2020-07-02 18:12:43.584] [geogram] [info]  nb_tets:872\n",
      "[2020-07-02 18:12:43.584] [geogram] [info] Attributes on vertices: point[3]\n",
      "[2020-07-02 18:12:43.595] [polyfem] [info] mesh bb min [-30, -10, -6], max [30, 10, 6]\n",
      "[2020-07-02 18:12:43.595] [polyfem] [info]  took 0.0172295s\n",
      "[2020-07-02 18:12:43.608] [polyfem] [info] simplex_count: \t872\n",
      "[2020-07-02 18:12:43.608] [polyfem] [info] regular_count: \t0\n",
      "[2020-07-02 18:12:43.608] [polyfem] [info] regular_boundary_count: \t0\n",
      "[2020-07-02 18:12:43.608] [polyfem] [info] simple_singular_count: \t0\n",
      "[2020-07-02 18:12:43.608] [polyfem] [info] multi_singular_count: \t0\n",
      "[2020-07-02 18:12:43.608] [polyfem] [info] boundary_count: \t0\n",
      "[2020-07-02 18:12:43.608] [polyfem] [info] multi_singular_boundary_count: \t0\n",
      "[2020-07-02 18:12:43.608] [polyfem] [info] non_regular_count: \t0\n",
      "[2020-07-02 18:12:43.608] [polyfem] [info] non_regular_boundary_count: \t0\n",
      "[2020-07-02 18:12:43.608] [polyfem] [info] undefined_count: \t0\n",
      "[2020-07-02 18:12:43.608] [polyfem] [info] total count:\t 872\n",
      "[2020-07-02 18:12:43.608] [polyfem] [info] Building isoparametric basis...\n",
      "[2020-07-02 18:12:43.614] [polyfem] [info] Computing polygonal basis...\n",
      "[2020-07-02 18:12:43.614] [polyfem] [info]  took 1.8148e-05s\n",
      "[2020-07-02 18:12:43.614] [polyfem] [info] hmin: 1.84426\n",
      "[2020-07-02 18:12:43.614] [polyfem] [info] hmax: 13.4172\n",
      "[2020-07-02 18:12:43.615] [polyfem] [info] havg: 5.74874\n",
      "[2020-07-02 18:12:43.615] [polyfem] [info]  took 0.00563913s\n",
      "[2020-07-02 18:12:43.615] [polyfem] [info] flipped elements 0\n",
      "[2020-07-02 18:12:43.615] [polyfem] [info] h: 13.4172\n",
      "[2020-07-02 18:12:43.615] [polyfem] [info] n bases: 260\n",
      "[2020-07-02 18:12:43.615] [polyfem] [info] n pressure bases: 0\n",
      "[2020-07-02 18:12:43.615] [polyfem] [info] Assigning rhs...\n",
      "[2020-07-02 18:12:43.617] [polyfem] [info]  took 0.00158428s\n",
      "[2020-07-02 18:12:43.617] [polyfem] [info] Assembling stiffness mat...\n",
      "[2020-07-02 18:12:43.627] [polyfem] [info]  took 0.0103303s\n",
      "[2020-07-02 18:12:43.627] [polyfem] [info] sparsity: 25810/608400\n",
      "[2020-07-02 18:12:43.627] [polyfem] [info] Solving LinearElasticity with\n",
      "[2020-07-02 18:12:43.627] [polyfem] [info] Hypre...\n"
     ]
    },
    {
     "data": {
      "application/vnd.jupyter.widget-view+json": {
       "model_id": "50f7e1d9b2a34c6aa5669ecf52a40c8e",
       "version_major": 2,
       "version_minor": 0
      },
      "text/plain": [
       "Renderer(camera=PerspectiveCamera(children=(DirectionalLight(color='white', intensity=0.6, position=(0.0158996…"
      ]
     },
     "metadata": {},
     "output_type": "display_data"
    },
    {
     "data": {
      "application/vnd.jupyter.widget-view+json": {
       "model_id": "372be1e350bf4eeb8f9aaf679392d615",
       "version_major": 2,
       "version_minor": 0
      },
      "text/plain": [
       "Renderer(camera=PerspectiveCamera(children=(DirectionalLight(color='white', intensity=0.6, position=(0.0155487…"
      ]
     },
     "metadata": {},
     "output_type": "display_data"
    },
    {
     "name": "stdout",
     "output_type": "stream",
     "text": [
      "Plot saved to file fem/plots/gr_6[5, 10, 3].html.\n",
      "Plot saved to file fem/plots/result_2.2037_6[5, 10, 3].html.\n",
      "(260, 1)\n",
      "(260, 1)\n",
      "(260, 1)\n"
     ]
    },
    {
     "data": {
      "application/vnd.jupyter.widget-view+json": {
       "model_id": "d335ffe7291840d882e2fb324323997e",
       "version_major": 2,
       "version_minor": 0
      },
      "text/plain": [
       "Renderer(camera=PerspectiveCamera(children=(DirectionalLight(color='white', intensity=0.6, position=(0.0, 0.0,…"
      ]
     },
     "metadata": {},
     "output_type": "display_data"
    },
    {
     "name": "stdout",
     "output_type": "stream",
     "text": [
      "Plot saved to file fem/plots-simple/error_2.2037_6[5, 10, 3].html.\n"
     ]
    },
    {
     "data": {
      "text/plain": [
       "'\\nmises_u.reshape(260,1)\\nstress_result.reshape(260,1)\\npo = np.zeros([260,1])\\nfor i in range(260):\\n    po[i] = stress_result[i]/mises_u[i]\\ns = np.sum(po)\\nprint(s/260)\\n\\nd_uni.reshape(260,3)\\ndisp_result.reshape(260,3)\\npo = np.zeros([260,3])\\ncount = 0\\nfor i in range(260):\\n    for j in range(3):\\n        if not d_uni[i][j] == 0:\\n            po[i][j] = disp_result[i][j] / d_uni[i][j]\\n            count += 1\\ns = np.sum(po)\\nprint(s/count)\\n'"
      ]
     },
     "execution_count": 30,
     "metadata": {},
     "output_type": "execute_result"
    }
   ],
   "source": [
    "force = 6\n",
    "mag = [5,10,3]\n",
    "loss = 2.2037\n",
    "loss = format(loss, '.4f')\n",
    "\n",
    "path_y = \"fem/test-force+/y_\" + str(loss) + \" 2 \" + str(force) + str(mag) + \".txt\"\n",
    "y = collect_result(path_y)\n",
    "    \n",
    "solver = pf.Solver()\n",
    "solver.load_mesh_from_path(out, vismesh_rel_area=1e-3)\n",
    "\n",
    "v, f = igl.read_triangle_mesh(out)   \n",
    "minn = np.min(v, axis=0)\n",
    "maxx = np.max(v, axis=0)\n",
    "\n",
    "face_idx = [[0,minn[0],\"left\"], [1,minn[1], \"bottom\"], [0, maxx[0], \"right\"], [1, maxx[1], \"top\"], [2, minn[2], \"back\"], [2, maxx[2], \"front\"]]\n",
    "force_ax = face_idx[force-1][0]\n",
    "\n",
    "ps, ts, s = solver.get_boundary_sidesets()\n",
    "\n",
    "settings = pf.Settings()\n",
    "problem = pf.Problem()\n",
    "settings.set_pde(pf.PDEs.LinearElasticity)\n",
    "settings.set_material_params(\"E\", 10000)\n",
    "settings.set_material_params(\"nu\", 0.35)\n",
    "\n",
    "fix = 2\n",
    "    \n",
    "# set the displacement value for the sideset id\n",
    "problem.set_displacement(fix, [0, 0, 0])\n",
    "problem.set_force(force, mag)\n",
    "settings.set_problem(problem)\n",
    "solver.settings(settings)\n",
    "solver.solve()\n",
    "\n",
    "p, tri, disp = solver.get_sampled_solution()\n",
    "\n",
    "m = np.linalg.norm(disp, axis=1)\n",
    "\n",
    "p_uni, indices, inverse = np.unique(p, return_index=True, return_inverse=True, axis=0)\n",
    "t_uni = np.array([inverse[tri[:, 0]], inverse[tri[:, 1]], inverse[tri[:, 2]], inverse[tri[:, 3]]]).transpose()\n",
    "d_uni = disp[indices, :]\n",
    "m_uni = m[indices]\n",
    "\n",
    "mises, stress_ten = solver.get_sampled_mises_avg()\n",
    "mises_u = mises[indices, :]\n",
    "    \n",
    "stress_result = y[:,0]\n",
    "disp_result = np.array([x[1:] for x in y])\n",
    "disp_result /= 1000\n",
    "\n",
    "\n",
    "plot = mp.plot(p_uni+d_uni, t_uni, mises_u, return_plot=True)\n",
    "# plot direction and magnitude of the force\n",
    "ex = ps[s[:,0] == force, :]\n",
    "    \n",
    "plot1 = mp.plot(p_uni+disp_result, t_uni, stress_result, return_plot=True)\n",
    "add_force(plot, plot1, mag, force_ax, ex)\n",
    "add_fix(plot, plot1)\n",
    "# plot x,y,z-axis\n",
    "add_axis(plot,plot1)\n",
    "plot.save(\"fem/plots/gr_\" + str(force) + str(mag))\n",
    "plot1.save(\"fem/plots/result_\" + str(loss) + \"_\" + str(force) + str(mag))\n",
    "\n",
    "plot_error(p_uni, t_uni, stress_result, mises_u)\n",
    "#print(mises_u-stress_result)\n",
    "\"\"\"\n",
    "mises_u.reshape(260,1)\n",
    "stress_result.reshape(260,1)\n",
    "po = np.zeros([260,1])\n",
    "for i in range(260):\n",
    "    po[i] = stress_result[i]/mises_u[i]\n",
    "s = np.sum(po)\n",
    "print(s/260)\n",
    "\n",
    "d_uni.reshape(260,3)\n",
    "disp_result.reshape(260,3)\n",
    "po = np.zeros([260,3])\n",
    "count = 0\n",
    "for i in range(260):\n",
    "    for j in range(3):\n",
    "        if not d_uni[i][j] == 0:\n",
    "            po[i][j] = disp_result[i][j] / d_uni[i][j]\n",
    "            count += 1\n",
    "s = np.sum(po)\n",
    "print(s/count)\n",
    "\"\"\"\n",
    "#print(po.shape)"
   ]
  },
  {
   "cell_type": "code",
   "execution_count": null,
   "metadata": {},
   "outputs": [],
   "source": []
  }
 ],
 "metadata": {
  "kernelspec": {
   "display_name": "Python 3",
   "language": "python",
   "name": "python3"
  },
  "language_info": {
   "codemirror_mode": {
    "name": "ipython",
    "version": 3
   },
   "file_extension": ".py",
   "mimetype": "text/x-python",
   "name": "python",
   "nbconvert_exporter": "python",
   "pygments_lexer": "ipython3",
   "version": "3.8.2"
  }
 },
 "nbformat": 4,
 "nbformat_minor": 4
}
