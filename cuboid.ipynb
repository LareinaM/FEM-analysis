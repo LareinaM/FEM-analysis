{
 "cells": [
  {
   "cell_type": "code",
   "execution_count": 1,
   "metadata": {},
   "outputs": [
    {
     "name": "stdout",
     "output_type": "stream",
     "text": [
      "/Users/wuyifan/Desktop/Summer research/fem\n"
     ]
    }
   ],
   "source": [
    "cd Desktop/Summer\\ research/fem/"
   ]
  },
  {
   "cell_type": "code",
   "execution_count": 2,
   "metadata": {},
   "outputs": [
    {
     "name": "stdout",
     "output_type": "stream",
     "text": [
      "[2020-06-01 11:33:38.948] [polyfem] [info] Loading mesh...\n",
      "[2020-06-01 11:33:38.950] [geogram] [info] Loading file out/out_cuboid_260.mesh...\n",
      "[2020-06-01 11:33:38.958] [geogram] [info] (FP64) nb_v:260 nb_e:0 nb_f:386 nb_b:0 tri:1 dim:3\n",
      "[2020-06-01 11:33:38.958] [geogram] [info]  nb_tets:872\n",
      "[2020-06-01 11:33:38.958] [geogram] [info] Attributes on vertices: point[3]\n",
      "[2020-06-01 11:33:38.978] [polyfem] [info] mesh bb min [-30, -10, -6], max [30, 10, 6]\n",
      "[2020-06-01 11:33:38.979] [polyfem] [info]  took 0.0313896s\n",
      "260\n"
     ]
    }
   ],
   "source": [
    "import numpy as np\n",
    "import math\n",
    "import igl\n",
    "import random\n",
    "import meshplot as mp\n",
    "import wildmeshing as wm\n",
    "import polyfempy as pf\n",
    "import scipy.sparse as sp\n",
    "\n",
    "name = \"cuboid\"\n",
    "path = \"data/\"+name+\"_l\"+\".obj\"\n",
    "out = \"out/out_\"+name+\"_260\"+\".mesh\"\n",
    "fix = 3\n",
    "force = 1\n",
    "mag = [random.randint(0,3),random.randint(0,3),random.randint(0,3)]\n",
    "\n",
    "V, F = igl.read_triangle_mesh(path)\n",
    "#wm.tetrahedralize(path, out, mute_log=True, edge_length_r=1/10)\n",
    "solver = pf.Solver()\n",
    "\n",
    "solver.load_mesh_from_path(out, vismesh_rel_area=1e-3)\n",
    "\n",
    "v1, f1 = igl.read_triangle_mesh(out)\n",
    "nv = igl.per_vertex_normals(v1, f1)\n",
    "print(len(v1))"
   ]
  },
  {
   "cell_type": "code",
   "execution_count": 23,
   "metadata": {},
   "outputs": [
    {
     "name": "stdout",
     "output_type": "stream",
     "text": [
      "1544\n"
     ]
    },
    {
     "data": {
      "text/plain": [
       "'\\n#left\\ne1 = ps[s[:,0] == 1, :]\\n#bottom\\ne2 = ps[s[:,0] == 2, :]\\n#right\\ne3 = ps[s[:,0] == 3, :]\\n#top\\ne4 = ps[s[:,0] == 4, :]\\n#back\\ne5 = ps[s[:,0] == 5, :]\\n#front\\ne6 = ps[s[:,0] == 6, :]\\n\\ncol = np.zeros_like(s); col[s==2] = 2; col[s==3] = 3\\n\\n#plot2 = mp.plot(V,F, shading={\"wireframe\": True}, return_plot=True)\\nplot2 = mp.plot(e1, shading={\"point_color\": \"pink\", \"point_size\": 2}, return_plot=True)\\n#plot2.add_points(e1, shading={\"point_color\": \"pink\", \"point_size\": 2})\\nplot2.add_points(e2, shading={\"point_color\": \"red\", \"point_size\": 2})\\nplot2.add_points(e3, shading={\"point_color\": \"blue\", \"point_size\": 2})\\nplot2.add_points(e4, shading={\"point_color\": \"purple\", \"point_size\": 2})\\nplot2.add_points(e5, shading={\"point_color\": \"green\", \"point_size\": 2})\\nplot2.add_points(e6, shading={\"point_color\": \"black\", \"point_size\": 2})\\n#plot2.add_points(v1, shading={\"point_color\": \"green\", \"point_size\": 5})\\n\\nplot2.save(\"plots/col_cuboid\")\\n'"
      ]
     },
     "execution_count": 23,
     "metadata": {},
     "output_type": "execute_result"
    }
   ],
   "source": [
    "\"\"\"\n",
    "minn = np.min(v1, axis=0)\n",
    "maxx = np.max(v1, axis=0)\n",
    "def sideset(p):\n",
    "    #bottom\n",
    "    if p[1]==minn[1]:\n",
    "        return 1\n",
    "    #top\n",
    "    elif p[1]==maxx[1]:\n",
    "        return 2\n",
    "    #left\n",
    "    elif p[0]==minn[0]:\n",
    "        return 3\n",
    "    #right\n",
    "    elif p[0]==maxx[0]:\n",
    "        return 4\n",
    "    #back\n",
    "    elif p[2]==minn[2]:\n",
    "        return 5\n",
    "    #front\n",
    "    else:\n",
    "        return 6\n",
    "solver.set_boundary_side_set_from_bary(sideset)\n",
    "\"\"\"\n",
    "ps, ts, s = solver.get_boundary_sidesets()\n",
    "print(len(s))\n",
    "\"\"\"\n",
    "#left\n",
    "e1 = ps[s[:,0] == 1, :]\n",
    "#bottom\n",
    "e2 = ps[s[:,0] == 2, :]\n",
    "#right\n",
    "e3 = ps[s[:,0] == 3, :]\n",
    "#top\n",
    "e4 = ps[s[:,0] == 4, :]\n",
    "#back\n",
    "e5 = ps[s[:,0] == 5, :]\n",
    "#front\n",
    "e6 = ps[s[:,0] == 6, :]\n",
    "\n",
    "col = np.zeros_like(s); col[s==2] = 2; col[s==3] = 3\n",
    "\n",
    "#plot2 = mp.plot(V,F, shading={\"wireframe\": True}, return_plot=True)\n",
    "plot2 = mp.plot(e1, shading={\"point_color\": \"pink\", \"point_size\": 2}, return_plot=True)\n",
    "#plot2.add_points(e1, shading={\"point_color\": \"pink\", \"point_size\": 2})\n",
    "plot2.add_points(e2, shading={\"point_color\": \"red\", \"point_size\": 2})\n",
    "plot2.add_points(e3, shading={\"point_color\": \"blue\", \"point_size\": 2})\n",
    "plot2.add_points(e4, shading={\"point_color\": \"purple\", \"point_size\": 2})\n",
    "plot2.add_points(e5, shading={\"point_color\": \"green\", \"point_size\": 2})\n",
    "plot2.add_points(e6, shading={\"point_color\": \"black\", \"point_size\": 2})\n",
    "#plot2.add_points(v1, shading={\"point_color\": \"green\", \"point_size\": 5})\n",
    "\n",
    "plot2.save(\"plots/col_cuboid\")\n",
    "\"\"\""
   ]
  },
  {
   "cell_type": "code",
   "execution_count": 28,
   "metadata": {
    "scrolled": true
   },
   "outputs": [
    {
     "name": "stdout",
     "output_type": "stream",
     "text": [
      "[2020-05-30 15:23:02.839] [polyfem] [info] simplex_count: \t872\n",
      "[2020-05-30 15:23:02.839] [polyfem] [info] regular_count: \t0\n",
      "[2020-05-30 15:23:02.841] [polyfem] [info] regular_boundary_count: \t0\n",
      "[2020-05-30 15:23:02.841] [polyfem] [info] simple_singular_count: \t0\n",
      "[2020-05-30 15:23:02.841] [polyfem] [info] multi_singular_count: \t0\n",
      "[2020-05-30 15:23:02.841] [polyfem] [info] boundary_count: \t0\n",
      "[2020-05-30 15:23:02.841] [polyfem] [info] multi_singular_boundary_count: \t0\n",
      "[2020-05-30 15:23:02.841] [polyfem] [info] non_regular_count: \t0\n",
      "[2020-05-30 15:23:02.841] [polyfem] [info] non_regular_boundary_count: \t0\n",
      "[2020-05-30 15:23:02.841] [polyfem] [info] undefined_count: \t0\n",
      "[2020-05-30 15:23:02.841] [polyfem] [info] total count:\t 872\n",
      "[2020-05-30 15:23:02.841] [polyfem] [info] Building isoparametric basis...\n",
      "[2020-05-30 15:23:02.850] [polyfem] [info] Computing polygonal basis...\n",
      "[2020-05-30 15:23:02.850] [polyfem] [info]  took 9.8612e-05s\n",
      "[2020-05-30 15:23:02.852] [polyfem] [info] hmin: 1.84426\n",
      "[2020-05-30 15:23:02.852] [polyfem] [info] hmax: 13.4172\n",
      "[2020-05-30 15:23:02.852] [polyfem] [info] havg: 5.74874\n",
      "[2020-05-30 15:23:02.852] [polyfem] [info]  took 0.0092438s\n",
      "[2020-05-30 15:23:02.852] [polyfem] [info] flipped elements 0\n",
      "[2020-05-30 15:23:02.852] [polyfem] [info] h: 13.4172\n",
      "[2020-05-30 15:23:02.852] [polyfem] [info] n bases: 260\n",
      "[2020-05-30 15:23:02.852] [polyfem] [info] n pressure bases: 0\n",
      "[2020-05-30 15:23:02.852] [polyfem] [info] Assigning rhs...\n",
      "[2020-05-30 15:23:02.853] [polyfem] [info]  took 0.00130934s\n",
      "[2020-05-30 15:23:02.853] [polyfem] [info] Assembling stiffness mat...\n",
      "[2020-05-30 15:23:02.881] [polyfem] [info]  took 0.0282239s\n",
      "[2020-05-30 15:23:02.881] [polyfem] [info] sparsity: 25810/608400\n",
      "[2020-05-30 15:23:02.881] [polyfem] [info] Solving LinearElasticity with\n",
      "[2020-05-30 15:23:02.881] [polyfem] [info] Hypre...\n",
      "1 [0, 3, 0]\n"
     ]
    }
   ],
   "source": [
    "settings = pf.Settings()\n",
    "problem = pf.Problem()\n",
    "settings.set_pde(pf.PDEs.LinearElasticity)\n",
    "\n",
    "settings.set_material_params(\"E\", 10000)\n",
    "settings.set_material_params(\"nu\", 0.35)\n",
    "\n",
    "# set the displacement value for the sideset id\n",
    "problem.set_displacement(fix, [0, 0, 0])\n",
    "problem.set_force(force, mag)\n",
    "settings.set_problem(problem)\n",
    "solver.settings(settings)\n",
    "solver.solve()\n",
    "\n",
    "p, tri, disp = solver.get_sampled_solution()\n",
    "m = np.linalg.norm(disp, axis=1)\n",
    "\n",
    "p_uni, indices, inverse = np.unique(p, return_index=True, return_inverse=True, axis=0)\n",
    "t_uni = np.array([inverse[tri[:, 0]], inverse[tri[:, 1]], inverse[tri[:, 2]], inverse[tri[:, 3]]]).transpose()\n",
    "d_uni = disp[indices, :]\n",
    "m_uni = m[indices]\n",
    "\n",
    "#print(len(p_uni),len(t_uni))\n",
    "\n",
    "\"\"\"returns the stress tensor on a densly sampled mesh\"\"\"\n",
    "stress = solver.get_stresses()\n",
    "s_uni = stress[indices, :]\n",
    "\n",
    "#print(s_uni.shape,len(p_uni))\n",
    "\n",
    "mises, stress_ten = solver.get_sampled_mises_avg()\n",
    "mises_u = mises[indices, :]\n",
    "#print(len(mises))\n",
    "#print(mises[0])\n",
    "#print(stress)\n",
    "\n",
    "n,_ = s_uni.shape\n",
    "\"\"\"\n",
    "s_vec = np.zeros((n,3))\n",
    "nor = np.array([[1,0,0],[0,1,0],[0,0,1]])\n",
    "for i in range(n):\n",
    "    for j in range(3):\n",
    "        n_t = nor[j]\n",
    "        t = n_t.dot(s_uni[i].reshape(3,3))\n",
    "        t_s = t[0]+t[1]+t[2]\n",
    "        s_vec[i][j] = t_s\n",
    "    #print(i, s_vec[i])\n",
    "\n",
    "s_norm = np.linalg.norm(s_vec, axis=1)\n",
    "#print(s_norm)\n",
    "\"\"\"      \n",
    "arr = solver.get_sampled_mises()\n",
    "arr = arr[indices, :]\n",
    "#print(len(arr))\n",
    "#print(len(mises))\n",
    "\"\"\" \n",
    "for i in range(len(arr)):\n",
    "    if not arr[i] == 0:\n",
    "        print(i, \"\\nstress: \",mises[i],\"\\ndisp: \",1000*d_uni[i],\"\\n\")\n",
    "\"\"\" \n",
    "#print(len(p), len(tri),len(v1))\n",
    "print(force,mag)\n",
    "#print(disp[:10]*100)"
   ]
  },
  {
   "cell_type": "code",
   "execution_count": 32,
   "metadata": {
    "scrolled": false
   },
   "outputs": [
    {
     "data": {
      "application/vnd.jupyter.widget-view+json": {
       "model_id": "cc8b8a74a17c43728a9588a4ecde3657",
       "version_major": 2,
       "version_minor": 0
      },
      "text/plain": [
       "Renderer(camera=PerspectiveCamera(children=(DirectionalLight(color='white', intensity=0.6, position=(-0.063104…"
      ]
     },
     "metadata": {},
     "output_type": "display_data"
    },
    {
     "data": {
      "text/plain": [
       "1"
      ]
     },
     "execution_count": 32,
     "metadata": {},
     "output_type": "execute_result"
    }
   ],
   "source": [
    "ef = ps[s[:,0] == force, :]\n",
    "save_path = \"plots/\"+name+\" \"+str(fix)+\" \"+str(force)+str(mag)\n",
    "v = p+disp\n",
    "plot = mp.plot(p_uni+d_uni, t_uni, mises_u, return_plot=True)\n",
    "plot.add_points(ef, shading={\"point_color\": \"white\", \"point_size\": 2})\n",
    "#plot1 = mp.plot(p_uni+d_uni, t_uni, m_uni*10, return_plot=True)\n",
    "#plot2 = mp.plot(p_uni+d_uni, t_uni,shading={\"wireframe\": True}, return_plot=True)\n",
    "#plot3 = mp.plot(p+disp, tri, m, return_plot=True)"
   ]
  },
  {
   "cell_type": "code",
   "execution_count": 58,
   "metadata": {},
   "outputs": [],
   "source": [
    "a,_ = s_uni.shape\n",
    "\"\"\"\n",
    "s_mat = np.zeros((a,3,3))\n",
    "\n",
    "for i in range(a):\n",
    "    item = s_uni[i]\n",
    "    t = item.reshape(3,3)\n",
    "    s_mat[i] = t\n",
    "\n",
    "\"\"\"\n",
    "s_vec = np.zeros((a,3))\n",
    "nor = np.array([[1,0,0],[0,1,0],[0,0,1]])\n",
    "for i in range(a):\n",
    "    for j in range(3):\n",
    "        n_t = nor[j]\n",
    "        t = n_t.dot(s_uni[i].reshape(3,3))\n",
    "        t_s = t[0]+t[1]+t[2]\n",
    "        s_vec[i][j] = t_s\n",
    "#print(nv.shape, s_vec.shape)"
   ]
  },
  {
   "cell_type": "code",
   "execution_count": 193,
   "metadata": {},
   "outputs": [
    {
     "name": "stdout",
     "output_type": "stream",
     "text": [
      "[ 1.04408565e-01  1.41485136e+00 -3.25471386e-01  1.94528775e-03\n",
      "  9.94701635e-04 -1.17972267e-04]\n"
     ]
    }
   ],
   "source": [
    "\"\"\"\n",
    "fix = np.zeros((len(p), 1))\n",
    "for i in range(len(p)):\n",
    "    pt = p[i]\n",
    "    if pt[1]>=maxx[1]-0.01:\n",
    "        fix[i] = 1\n",
    "    else:\n",
    "        fix[i] = 0\n",
    "\"\"\"\n",
    "\n",
    "\n",
    "y = np.hstack((s_vec,d_uni))\n",
    "print(y[8])"
   ]
  },
  {
   "cell_type": "code",
   "execution_count": 194,
   "metadata": {},
   "outputs": [],
   "source": [
    "\n",
    "\"\"\"\n",
    "s_vec = np.zeros((n,3))\n",
    "nor = np.array([[1,0,0],[0,1,0],[0,0,1]])\n",
    "for i in range(n):\n",
    "    for j in range(3):\n",
    "        n_t = nor[j]\n",
    "        t = n_t.dot(s_uni[i].reshape(3,3))\n",
    "        t_s = t[0]+t[1]+t[2]\n",
    "        s_vec[i][j] = t_s\n",
    "\n",
    "y = np.hstack((s_vec,d_uni))\n",
    "\"\"\""
   ]
  },
  {
   "cell_type": "code",
   "execution_count": 207,
   "metadata": {},
   "outputs": [
    {
     "data": {
      "text/plain": [
       "'\\ndata = np.zeros([len(E)*2])+1\\nrow = E[:,0]\\ncol = E[:,1]\\nrow1 = np.append(row,col)\\ncol1 = np.append(col,row)\\n\\n#print(\"\\n\",row1)\\n\\n\\nfor i in range(len(E)):\\n    edge = E[i]\\n    v1 = edge[0]\\n    v2 = edge[1]\\n    adj[v1][v2] = 1\\n    adj[v1][v2] = 1\\n        \\n\\nadj1 = sp.coo_matrix((data, (row1, col1)))\\n#adj2 = sp.coo_matrix((data, (col, row)))\\n#print(\"adj1 = \\n\",adj1,\"\\n\")\\nadj = adj1.toarray()\\n#print(adj[0])\\n#print(adj[1])\\n'"
      ]
     },
     "execution_count": 207,
     "metadata": {},
     "output_type": "execute_result"
    }
   ],
   "source": []
  },
  {
   "cell_type": "code",
   "execution_count": 209,
   "metadata": {},
   "outputs": [],
   "source": []
  },
  {
   "cell_type": "code",
   "execution_count": null,
   "metadata": {},
   "outputs": [],
   "source": []
  }
 ],
 "metadata": {
  "kernelspec": {
   "display_name": "Python 3",
   "language": "python",
   "name": "python3"
  },
  "language_info": {
   "codemirror_mode": {
    "name": "ipython",
    "version": 3
   },
   "file_extension": ".py",
   "mimetype": "text/x-python",
   "name": "python",
   "nbconvert_exporter": "python",
   "pygments_lexer": "ipython3",
   "version": "3.8.2"
  }
 },
 "nbformat": 4,
 "nbformat_minor": 4
}
