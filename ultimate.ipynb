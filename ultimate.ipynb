{
 "cells": [
  {
   "cell_type": "code",
   "execution_count": 4,
   "metadata": {},
   "outputs": [
    {
     "name": "stdout",
     "output_type": "stream",
     "text": [
      "[Errno 2] No such file or directory: 'Desktop/Summer research/fem/'\n",
      "/Users/wuyifan/Desktop/Summer research/fem\n"
     ]
    }
   ],
   "source": [
    "cd Desktop/Summer\\ research/fem/"
   ]
  },
  {
   "cell_type": "code",
   "execution_count": 5,
   "metadata": {},
   "outputs": [],
   "source": [
    "import numpy as np\n",
    "import math\n",
    "import igl\n",
    "import meshplot as mp\n",
    "import wildmeshing as wm\n",
    "import polyfempy as pf\n",
    "\n",
    "V, F = igl.read_triangle_mesh(\"data/mesh.obj\")\n",
    "#p1 = mp.plot(V, F, shading={\"wireframe\": True}, return_plot=True)\n",
    "#p1.save(\"cylinder\")\n",
    "\n",
    "wm.tetrahedralize(\"data/mesh.obj\", \"out/out_mesh.mesh\", mute_log=True)\n",
    "solver = pf.Solver()\n",
    "solver.load_mesh_from_path(\"out/out_mesh.mesh\")"
   ]
  },
  {
   "cell_type": "code",
   "execution_count": 6,
   "metadata": {},
   "outputs": [
    {
     "data": {
      "application/vnd.jupyter.widget-view+json": {
       "model_id": "4f44b834688644b8a85f8d6686e54e1f",
       "version_major": 2,
       "version_minor": 0
      },
      "text/plain": [
       "Renderer(camera=PerspectiveCamera(children=(DirectionalLight(color='white', intensity=0.6, position=(0.0, -34.…"
      ]
     },
     "metadata": {},
     "output_type": "display_data"
    }
   ],
   "source": [
    "minn = np.min(V, axis=0)\n",
    "maxx = np.max(V, axis=0)\n",
    "center = (minn+maxx)/2\n",
    "\n",
    "def sideset(p):\n",
    "    if abs(p[2] - minn[2]) < 0.5:\n",
    "        if p[1] > center[1]:\n",
    "            return 2\n",
    "        else:\n",
    "            return 3\n",
    "    return 1\n",
    "\n",
    "solver.set_boundary_side_set_from_bary(sideset)\n",
    "\n",
    "\"\"\"s: categories by pts\"\"\"\n",
    "ps, ts, s = solver.get_boundary_sidesets()\n",
    "\n",
    "e1 = ps[s[:,0] == 1, :]\n",
    "e2 = ps[s[:,0] == 2, :]\n",
    "e3 = ps[s[:,0] == 3, :]\n",
    "\n",
    "col = np.zeros_like(s); col[s==2] = 2; col[s==3] = 3\n",
    "plot2 = mp.plot(ps, ts)\n",
    "#plot2.save(\"col\")"
   ]
  },
  {
   "cell_type": "code",
   "execution_count": 27,
   "metadata": {},
   "outputs": [],
   "source": [
    "settings = pf.Settings()\n",
    "problem = pf.Problem()\n",
    "\n",
    "settings.set_pde(pf.PDEs.LinearElasticity)\n",
    "\n",
    "settings.set_material_params(\"E\", 20000)\n",
    "settings.set_material_params(\"nu\", 0.35)\n",
    "\n",
    "# set the displacement value for the sideset id\n",
    "problem.set_displacement(2, [0, 0, 0])\n",
    "problem.set_force(3, [0, -5, 0])\n",
    "\n",
    "settings.set_problem(problem)\n",
    "\n",
    "solver.settings(settings)\n",
    "solver.solve()\n",
    "\n",
    "p, tri, disp = solver.get_sampled_solution()\n",
    "\n",
    "m = np.linalg.norm(disp, axis=1)"
   ]
  },
  {
   "cell_type": "code",
   "execution_count": 24,
   "metadata": {},
   "outputs": [
    {
     "data": {
      "application/vnd.jupyter.widget-view+json": {
       "model_id": "afe34588ccf040cb876428ce6791e303",
       "version_major": 2,
       "version_minor": 0
      },
      "text/plain": [
       "Renderer(camera=PerspectiveCamera(children=(DirectionalLight(color='white', intensity=0.6, position=(-0.014812…"
      ]
     },
     "metadata": {},
     "output_type": "display_data"
    }
   ],
   "source": [
    "plot = mp.plot(v=p+disp, f=tri, c=m, return_plot=True)\n",
    "plot.add_points(e1, shading={\"point_color\": \"yellow\", \"point_size\": 10});\n",
    "plot.add_points(e2, shading={\"point_color\": \"red\", \"point_size\": 10});\n",
    "plot.add_points(e3, shading={\"point_color\": \"green\", \"point_size\": 10});"
   ]
  },
  {
   "cell_type": "code",
   "execution_count": 68,
   "metadata": {},
   "outputs": [
    {
     "name": "stdout",
     "output_type": "stream",
     "text": [
      "141270\n",
      "23946\n",
      "(18992, 3) (23946, 3) (113016, 4)\n"
     ]
    },
    {
     "data": {
      "application/vnd.jupyter.widget-view+json": {
       "model_id": "c8c662383f5b4706a7ee952b3fb2d5af",
       "version_major": 2,
       "version_minor": 0
      },
      "text/plain": [
       "Renderer(camera=PerspectiveCamera(children=(DirectionalLight(color='white', intensity=0.6, position=(-0.148120…"
      ]
     },
     "metadata": {},
     "output_type": "display_data"
    },
    {
     "data": {
      "text/plain": [
       "6"
      ]
     },
     "execution_count": 68,
     "metadata": {},
     "output_type": "execute_result"
    }
   ],
   "source": [
    "\"\"\"\n",
    "Find the unique elements of an array\n",
    "Returns: \n",
    "    sorted unique elements of an array\n",
    "    indices of the first occurrences of the unique values in the original array\n",
    "    indices to reconstruct the original array from the unique array, len = original\n",
    "        inverse[i]=x <=> p[i]=p_uni[x]\n",
    "            x: index in p_uni\n",
    "            i: index in original array\n",
    "\"\"\"\n",
    "print(len(p))\n",
    "p_uni, indices, inverse = np.unique(p, return_index=True, return_inverse=True, axis=0)\n",
    "print(len(p_uni))\n",
    "\n",
    "\"\"\"original tris with indices in unique array\"\"\"\n",
    "t_uni = np.array([inverse[tri[:, 0]], inverse[tri[:, 1]], inverse[tri[:, 2]], inverse[tri[:, 3]]]).transpose()\n",
    "d_uni = disp[indices, :]\n",
    "m_uni = m[indices]\n",
    "\n",
    "\"\"\"\n",
    "Constructs the tet_tet adjacency matrix for a given tet mesh with tets T\n",
    "Returns\n",
    "    TT #T by #4 adjacency matrix, the element [i,j] is the id of the tet adjacent to the face j of tet i\n",
    "    TTi #T by #4 adjacency matrix, the element i,j is the id of face of the tet TT(i,j) that is adjacent to tet i\n",
    "\"\"\"\n",
    "adj, _ = igl.tet_tet_adjacency(t_uni)\n",
    "\n",
    "igl_faces = [[0,1,2], [0,1,3], [1,2,3], [2,0,3]]\n",
    "surf = []\n",
    "#print(t_uni[12,2])\n",
    "for t in range(adj.shape[0]):\n",
    "    for f in range(adj.shape[1]):\n",
    "        face = igl_faces[f]\n",
    "        \"\"\"face f of tet t has no neighbour\"\"\"\n",
    "        if adj[t, f] == -1:\n",
    "            #print(\"t = \", t, \", f = \",f, \", t_uni_pt1 = \",t_uni[t, face[0]])\n",
    "            \"\"\"pick 3 points in t with indices in t_uni\"\"\"\n",
    "            surf += [[t_uni[t, face[0]], t_uni[t, face[1]], t_uni[t, face[2]]]]\n",
    "surf = np.array(surf)\n",
    "print(surf.shape,p_uni.shape,t_uni.shape)\n",
    "\n",
    "\"\"\"\n",
    "Constructs isolines for a function z given on a mesh (V,F)\n",
    "    *f must be triangles*\n",
    "return\n",
    "    isoV: #isoV by dim list of isoline vertex positions\n",
    "    isoE: #isoE by 2 list of isoline edge positions\n",
    "\"\"\"\n",
    "iso_p, iso_l = igl.isolines(v=p_uni+d_uni, f=surf, z=m_uni, n=40)\n",
    "\n",
    "plot = mp.plot(p_uni+d_uni, surf, m_uni, return_plot=True)\n",
    "\n",
    "mag = np.array([0, -5, 0])\n",
    "\n",
    "plot.add_lines(np.array([[0,0,0],[100,0,0],[100,0,0]]), np.array([[100,0,0],[95,5,0],[95,-5,0]]), shading={\"line_color\": \"blue\"})\n",
    "plot.add_lines(np.array([[0,0,0],[0,100,0],[0,100,0]]), np.array([[0,100,0],[-5,95,0],[5,95,0]]), shading={\"line_color\": \"red\"})\n",
    "plot.add_lines(np.array([[0,0,0],[0,0,100],[0,0,100]]), np.array([[0,0,100],[0,5,95],[0,-5,95]]), shading={\"line_color\": \"yellow\"})\n",
    "\n",
    "dir1 = -mag/5\n",
    "dir2 = -mag/5\n",
    "dir1 += [-1,0,0]\n",
    "dir2 += [1,0,0]\n",
    "\n",
    "e31 = np.vstack((np.vstack((e3[0:20],e3[0:20])),e3[0:20]))\n",
    "e32 = np.vstack((np.vstack((e3[0:20]-mag,e3[0:20]+dir1)),e3[0:20]+dir2))\n",
    "plot.add_lines(e31, e32, shading={\"line_color\": \"black\"})\n",
    "e33 = np.vstack((np.vstack((e3[30:50],e3[30:50])),e3[30:50]))\n",
    "e34 = np.vstack((np.vstack((e3[30:50]-mag,e3[30:50]+dir1)),e3[30:50]+dir2))\n",
    "plot.add_lines(e33, e34, shading={\"line_color\": \"black\"})\n",
    "\n",
    "#plot.add_lines(e3, e3+mag, shading={\"line_color\": \"black\"})\n",
    "#plot.add_lines(e3+mag, e3+mag+dir1, shading={\"line_color\": \"black\"})\n",
    "#plot.add_lines(e3+mag, e3+mag+dir2, shading={\"line_color\": \"black\"})\n",
    "#plot.add_edges(iso_p, iso_l, shading={\"line_color\": \"white\"})\n",
    "plot.add_points(e2, shading={\"point_color\": \"white\", \"point_size\": 7})\n",
    "\n",
    "#plot.save(\"isoline\")"
   ]
  },
  {
   "cell_type": "code",
   "execution_count": null,
   "metadata": {},
   "outputs": [],
   "source": []
  }
 ],
 "metadata": {
  "kernelspec": {
   "display_name": "Python 3",
   "language": "python",
   "name": "python3"
  },
  "language_info": {
   "codemirror_mode": {
    "name": "ipython",
    "version": 3
   },
   "file_extension": ".py",
   "mimetype": "text/x-python",
   "name": "python",
   "nbconvert_exporter": "python",
   "pygments_lexer": "ipython3",
   "version": "3.8.2"
  }
 },
 "nbformat": 4,
 "nbformat_minor": 4
}
