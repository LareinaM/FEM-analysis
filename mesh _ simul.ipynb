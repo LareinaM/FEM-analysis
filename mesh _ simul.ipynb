{
 "cells": [
  {
   "cell_type": "code",
   "execution_count": 11,
   "metadata": {},
   "outputs": [
    {
     "name": "stdout",
     "output_type": "stream",
     "text": [
      "[Errno 2] No such file or directory: 'Desktop/Summer research/fem/'\n",
      "/Users/wuyifan/Desktop/Summer research/fem\n"
     ]
    }
   ],
   "source": [
    "cd Desktop/Summer\\ research/fem/"
   ]
  },
  {
   "cell_type": "code",
   "execution_count": 2,
   "metadata": {},
   "outputs": [],
   "source": [
    "import numpy as np\n",
    "import meshplot as mp\n",
    "\n",
    "import wildmeshing as wm\n",
    "import polyfempy as pf"
   ]
  },
  {
   "cell_type": "code",
   "execution_count": 3,
   "metadata": {},
   "outputs": [
    {
     "data": {
      "application/vnd.jupyter.widget-view+json": {
       "model_id": "125352697e7f4f67aef9d2414b5a220d",
       "version_major": 2,
       "version_minor": 0
      },
      "text/plain": [
       "Renderer(camera=PerspectiveCamera(children=(DirectionalLight(color='white', intensity=0.6, position=(194.30000…"
      ]
     },
     "metadata": {},
     "output_type": "display_data"
    },
    {
     "data": {
      "text/plain": [
       "2"
      ]
     },
     "execution_count": 3,
     "metadata": {},
     "output_type": "execute_result"
    }
   ],
   "source": [
    "V = np.load(\"data/V.npy\")\n",
    "L = np.load(\"data/L.npy\")\n",
    "\n",
    "\"\"\"\n",
    "p=mp.plot(V, np.zeros((0,3)), return_plot=True)\n",
    "p.add_edges(V, L, shading={});\n",
    "p.add_points(V, shading={\"point_color\": \"red\", \"point_size\": 10})\n",
    "p.save(\"Load.html\")\n",
    "\"\"\""
   ]
  },
  {
   "cell_type": "code",
   "execution_count": 10,
   "metadata": {},
   "outputs": [
    {
     "name": "stdout",
     "output_type": "stream",
     "text": [
      "1/1 n sub paths: 5\n"
     ]
    },
    {
     "data": {
      "application/vnd.jupyter.widget-view+json": {
       "model_id": "853099ecb35f4527814d7c2e33314ce4",
       "version_major": 2,
       "version_minor": 0
      },
      "text/plain": [
       "Renderer(camera=PerspectiveCamera(children=(DirectionalLight(color='white', intensity=0.6, position=(194.29999…"
      ]
     },
     "metadata": {},
     "output_type": "display_data"
    },
    {
     "name": "stdout",
     "output_type": "stream",
     "text": [
      "Plot saved to file mesh.html.\n"
     ]
    }
   ],
   "source": [
    "vs, tris, nodes, F_nodes = wm.triangulate_svg(\"data/planehole.svg\", cut_outside=True)\n",
    "\n",
    "p = mp.plot(vs, tris,shading={\"wireframe\": True}, return_plot=True)\n",
    "p.add_points(V, shading={\"point_color\": \"red\", \"point_size\": 5});\n",
    "p.add_points(nodes, shading={\"point_color\": \"green\", \"point_size\": 10})\n",
    "p.save(\"mesh.html\")\n"
   ]
  },
  {
   "cell_type": "code",
   "execution_count": 16,
   "metadata": {},
   "outputs": [
    {
     "data": {
      "application/vnd.jupyter.widget-view+json": {
       "model_id": "f67e809e46944752a9c2120d47db2f9a",
       "version_major": 2,
       "version_minor": 0
      },
      "text/plain": [
       "Renderer(camera=PerspectiveCamera(children=(DirectionalLight(color='white', intensity=0.6, position=(194.30000…"
      ]
     },
     "metadata": {},
     "output_type": "display_data"
    },
    {
     "name": "stdout",
     "output_type": "stream",
     "text": [
      "[1. 7. 1. 4. 7. 7. 7. 7. 2. 7. 2. 3. 4. 3. 1. 1. 1. 1. 4. 4. 4. 4. 4. 4.\n",
      " 4. 4. 4. 4. 4. 4. 4. 4. 4. 4. 4. 4. 2. 2. 2. 2. 2. 2. 2. 2. 2. 2. 2. 2.\n",
      " 2. 3. 3. 3. 3. 3. 3. 3. 3.]\n",
      "[[  0   1]\n",
      " [  2   3]\n",
      " [  4   5]\n",
      " [  6   7]\n",
      " [  8   9]\n",
      " [ 10  11]\n",
      " [ 12  13]\n",
      " [ 14  15]\n",
      " [ 16  17]\n",
      " [ 18  19]\n",
      " [ 20  21]\n",
      " [ 22  23]\n",
      " [ 24  25]\n",
      " [ 26  27]\n",
      " [ 28  29]\n",
      " [ 30  31]\n",
      " [ 32  33]\n",
      " [ 34  35]\n",
      " [ 36  37]\n",
      " [ 38  39]\n",
      " [ 40  41]\n",
      " [ 42  43]\n",
      " [ 44  45]\n",
      " [ 46  47]\n",
      " [ 48  49]\n",
      " [ 50  51]\n",
      " [ 52  53]\n",
      " [ 54  55]\n",
      " [ 56  57]\n",
      " [ 58  59]\n",
      " [ 60  61]\n",
      " [ 62  63]\n",
      " [ 64  65]\n",
      " [ 66  67]\n",
      " [ 68  69]\n",
      " [ 70  71]\n",
      " [ 72  73]\n",
      " [ 74  75]\n",
      " [ 76  77]\n",
      " [ 78  79]\n",
      " [ 80  81]\n",
      " [ 82  83]\n",
      " [ 84  85]\n",
      " [ 86  87]\n",
      " [ 88  89]\n",
      " [ 90  91]\n",
      " [ 92  93]\n",
      " [ 94  95]\n",
      " [ 96  97]\n",
      " [ 98  99]\n",
      " [100 101]\n",
      " [102 103]\n",
      " [104 105]\n",
      " [106 107]\n",
      " [108 109]\n",
      " [110 111]\n",
      " [112 113]]\n",
      "[[ 0  1]\n",
      " [ 4  5]\n",
      " [28 29]\n",
      " [30 31]\n",
      " [32 33]\n",
      " [34 35]]\n",
      "Plot saved to file bound.html.\n"
     ]
    }
   ],
   "source": [
    "solver = pf.Solver()\n",
    "\n",
    "# vertices: array, connectivity: array, nodes_pos: array, nodes_indices: List[List[int]]\n",
    "# Loads an high order mesh from vertices, connectivity, nodes, and node indices mapping element to nodes\n",
    "solver.set_high_order_mesh(vs, tris, nodes, F_nodes)\n",
    "\n",
    "# sp: points\n",
    "# sl: lines\n",
    "# ->tuple, exports get the boundary sideset, edges in 2d or trangles in 3d\n",
    "sp, sl, s = solver.get_boundary_sidesets()\n",
    "p=mp.plot(sp, np.zeros((0,3)), return_plot=True)\n",
    "p.add_edges(sp, sl);\n",
    "\n",
    "e1 = sl[s[:,0] == 1, :]\n",
    "e2 = sl[s[:,0] == 2, :]\n",
    "e3 = sl[s[:,0] == 3, :]\n",
    "e4 = sl[s[:,0] == 4, :]\n",
    "e5 = sl[s[:,0] == 7, :]\n",
    "\n",
    "p.add_points((sp[e1[:, 0], :]+sp[e1[:, 1], :])/2, shading={\"point_color\": \"red\", \"point_size\": 5});\n",
    "p.add_points((sp[e5[:, 0], :]+sp[e5[:, 1], :])/2, shading={\"point_color\": \"yellow\", \"point_size\": 5});\n",
    "p.add_points((sp[e2[:, 0], :]+sp[e2[:, 1], :])/2, shading={\"point_color\": \"green\", \"point_size\": 5});\n",
    "p.add_points((sp[e3[:, 0], :]+sp[e3[:, 1], :])/2, shading={\"point_color\": \"blue\", \"point_size\": 5});\n",
    "p.add_points((sp[e4[:, 0], :]+sp[e4[:, 1], :])/2, shading={\"point_color\": \"black\", \"point_size\": 5})\n",
    "p.save(\"bound.html\")"
   ]
  },
  {
   "cell_type": "code",
   "execution_count": 76,
   "metadata": {},
   "outputs": [
    {
     "name": "stdout",
     "output_type": "stream",
     "text": [
      "[2020-05-18 15:11:15.251] [polyfem] [info] simplex_count: \t363\n",
      "[2020-05-18 15:11:15.251] [polyfem] [info] regular_count: \t0\n",
      "[2020-05-18 15:11:15.251] [polyfem] [info] regular_boundary_count: \t0\n",
      "[2020-05-18 15:11:15.251] [polyfem] [info] simple_singular_count: \t0\n",
      "[2020-05-18 15:11:15.251] [polyfem] [info] multi_singular_count: \t0\n",
      "[2020-05-18 15:11:15.251] [polyfem] [info] boundary_count: \t0\n",
      "[2020-05-18 15:11:15.251] [polyfem] [info] multi_singular_boundary_count: \t0\n",
      "[2020-05-18 15:11:15.251] [polyfem] [info] non_regular_count: \t0\n",
      "[2020-05-18 15:11:15.251] [polyfem] [info] non_regular_boundary_count: \t0\n",
      "[2020-05-18 15:11:15.252] [polyfem] [info] undefined_count: \t0\n",
      "[2020-05-18 15:11:15.257] [polyfem] [info] total count:\t 363\n",
      "[2020-05-18 15:11:15.257] [polyfem] [info] Building not isoparametric basis...\n",
      "[2020-05-18 15:11:15.284] [polyfem] [info] Computing polygonal basis...\n",
      "[2020-05-18 15:11:15.285] [polyfem] [info]  took 0.000390718s\n",
      "[2020-05-18 15:11:15.285] [polyfem] [info] hmin: 3.71865\n",
      "[2020-05-18 15:11:15.285] [polyfem] [info] hmax: 9.90673\n",
      "[2020-05-18 15:11:15.285] [polyfem] [info] havg: 5.6117\n",
      "[2020-05-18 15:11:15.285] [polyfem] [info]  took 0.0268929s\n",
      "[2020-05-18 15:11:15.285] [polyfem] [info] flipped elements 0\n",
      "[2020-05-18 15:11:15.285] [polyfem] [info] h: 9.90673\n",
      "[2020-05-18 15:11:15.285] [polyfem] [info] n bases: 784\n",
      "[2020-05-18 15:11:15.285] [polyfem] [info] n pressure bases: 0\n",
      "[2020-05-18 15:11:15.285] [polyfem] [info] Assigning rhs...\n",
      "[2020-05-18 15:11:15.316] [polyfem] [info]  took 0.0311398s\n",
      "[2020-05-18 15:11:15.316] [polyfem] [info] Assembling stiffness mat...\n",
      "[2020-05-18 15:11:15.316] [polyfem] [info]  took 1.3185e-05s\n",
      "[2020-05-18 15:11:15.316] [polyfem] [info] sparsity: 0/0\n",
      "[2020-05-18 15:11:15.316] [polyfem] [info] Solving NeoHookean with\n",
      "[2020-05-18 15:11:15.317] [polyfem] [info] t: 1 prev: 0 step: 1\n",
      "[[    0    18     1]\n",
      " [   18    19     1]\n",
      " [    1    19     2]\n",
      " ...\n",
      " [62070 62071 62068]\n",
      " [62068 62071 62069]\n",
      " [62070 62072 62071]]\n"
     ]
    },
    {
     "data": {
      "application/vnd.jupyter.widget-view+json": {
       "model_id": "532cace867de4078ac3c65d681e9b0d8",
       "version_major": 2,
       "version_minor": 0
      },
      "text/plain": [
       "Renderer(camera=PerspectiveCamera(children=(DirectionalLight(color='white', intensity=0.6, position=(194.32994…"
      ]
     },
     "metadata": {},
     "output_type": "display_data"
    },
    {
     "name": "stdout",
     "output_type": "stream",
     "text": [
      "Plot saved to file solve.html.\n"
     ]
    }
   ],
   "source": [
    "settings = pf.Settings()\n",
    "problem = pf.Problem()\n",
    "\n",
    "# Sets the PDE to solve, use any of the polyfempy.PDEs\n",
    "settings.set_pde(pf.PDEs.NonLinearElasticity)\n",
    "\n",
    "settings.discr_order = 2\n",
    "\n",
    "# set the material parameters\n",
    "# sets the Young’s modulus E to 210000\n",
    "settings.set_material_params(\"E\", 210000)\n",
    "settings.set_material_params(\"nu\", 0.3)\n",
    "\n",
    "# x coorinate is fixed, y is allowed to move (Neumann)\n",
    "problem.set_x_symmetric(1)\n",
    "problem.set_y_symmetric(2)\n",
    "\n",
    "# set the *force* value for the sideset *id*\n",
    "problem.set_force(3, [100, 0])\n",
    "\n",
    "settings.set_problem(problem)\n",
    "\n",
    "solver.settings(settings)\n",
    "solver.solve()\n",
    "\n",
    "# returns the solution on a densly sampled mesh\n",
    "sol_pts, sol_tri, disp = solver.get_sampled_solution()\n",
    "\n",
    "# returns the von mises stresses and stress tensor averaged around a vertex on a densly sampled mesh\n",
    "misises, _ = solver.get_sampled_mises_avg()\n",
    "\n",
    "a = mp.plot(sol_pts + disp, sol_tri, misises, return_plot=True)\n",
    "a.save(\"solve.html\")"
   ]
  },
  {
   "cell_type": "code",
   "execution_count": null,
   "metadata": {},
   "outputs": [],
   "source": []
  }
 ],
 "metadata": {
  "kernelspec": {
   "display_name": "Python 3",
   "language": "python",
   "name": "python3"
  },
  "language_info": {
   "codemirror_mode": {
    "name": "ipython",
    "version": 3
   },
   "file_extension": ".py",
   "mimetype": "text/x-python",
   "name": "python",
   "nbconvert_exporter": "python",
   "pygments_lexer": "ipython3",
   "version": "3.8.2"
  }
 },
 "nbformat": 4,
 "nbformat_minor": 4
}
