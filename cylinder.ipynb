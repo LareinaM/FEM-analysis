{
 "cells": [
  {
   "cell_type": "code",
   "execution_count": 1,
   "metadata": {},
   "outputs": [
    {
     "name": "stdout",
     "output_type": "stream",
     "text": [
      "/Users/wuyifan/Desktop/Summer research/fem\n"
     ]
    }
   ],
   "source": [
    "cd Desktop/Summer\\ research/fem/"
   ]
  },
  {
   "cell_type": "code",
   "execution_count": 51,
   "metadata": {},
   "outputs": [
    {
     "data": {
      "application/vnd.jupyter.widget-view+json": {
       "model_id": "454e651b14154d88ac7582b6906ff56f",
       "version_major": 2,
       "version_minor": 0
      },
      "text/plain": [
       "Renderer(camera=PerspectiveCamera(children=(DirectionalLight(color='white', intensity=0.6, position=(0.0, 0.0,…"
      ]
     },
     "metadata": {},
     "output_type": "display_data"
    },
    {
     "name": "stdout",
     "output_type": "stream",
     "text": [
      "Plot saved to file cylinder.html.\n",
      "[2020-05-23 17:29:05.429] [polyfem] [info] Loading mesh...\n",
      "[2020-05-23 17:29:05.429] [geogram] [info] Loading file out_xcylinder.mesh...\n",
      "[2020-05-23 17:29:05.460] [geogram] [info] (FP64) nb_v:1565 nb_e:0 nb_f:1328 nb_b:0 tri:1 dim:3\n",
      "[2020-05-23 17:29:05.460] [geogram] [info]  nb_tets:6930\n",
      "[2020-05-23 17:29:05.460] [geogram] [info] Attributes on vertices: point[3]\n",
      "[2020-05-23 17:29:05.528] [polyfem] [info] mesh bb min [-0.8, -0.424264, -0.424264], max [0.8, 0.424264, 0.424264]\n",
      "[2020-05-23 17:29:05.528] [polyfem] [info]  took 0.0983507s\n"
     ]
    }
   ],
   "source": [
    "import numpy as np\n",
    "import math\n",
    "import igl\n",
    "import meshplot as mp\n",
    "import wildmeshing as wm\n",
    "import polyfempy as pf\n",
    "\n",
    "V, F = igl.read_triangle_mesh(\"data/xcylinder.obj\")\n",
    "#p1 = mp.plot(V, F, shading={\"wireframe\": True}, return_plot=True)\n",
    "#p1.add_points(V, shading={\"point_color\": \"blue\", \"point_size\": 0.5});\n",
    "#p1.save(\"cylinder\")\n",
    "\n",
    "#wm.tetrahedralize(\"data/xcylinder.obj\", \"out_xcylinder.mesh\", mute_log=True)\n",
    "solver = pf.Solver()\n",
    "solver.load_mesh_from_path(\"out_xcylinder.mesh\")"
   ]
  },
  {
   "cell_type": "code",
   "execution_count": 52,
   "metadata": {},
   "outputs": [
    {
     "data": {
      "application/vnd.jupyter.widget-view+json": {
       "model_id": "fb29a775a5a84837a77a659d49b0c63d",
       "version_major": 2,
       "version_minor": 0
      },
      "text/plain": [
       "Renderer(camera=PerspectiveCamera(children=(DirectionalLight(color='white', intensity=0.6, position=(0.0, 0.0,…"
      ]
     },
     "metadata": {},
     "output_type": "display_data"
    },
    {
     "name": "stdout",
     "output_type": "stream",
     "text": [
      "Plot saved to file col_xcylinder.html.\n"
     ]
    }
   ],
   "source": [
    "minn = np.min(V, axis=0)\n",
    "maxx = np.max(V, axis=0)\n",
    "\n",
    "def sideset(p):\n",
    "    if p[0]<-0.75:\n",
    "        return 1\n",
    "    elif p[0]>0.75:\n",
    "        return 2\n",
    "    return 3\n",
    "\n",
    "solver.set_boundary_side_set_from_bary(sideset)\n",
    "\n",
    "\"\"\"s: categories by pts\"\"\"\n",
    "ps, ts, s = solver.get_boundary_sidesets()\n",
    "\n",
    "e1 = ps[s[:,0] == 1, :]\n",
    "e2 = ps[s[:,0] == 2, :]\n",
    "e3 = ps[s[:,0] == 3, :]\n",
    "\n",
    "col = np.zeros_like(s); col[s==2] = 2; col[s==3] = 3\n",
    "#plot2 = mp.plot(ps, ts, col, return_plot=True)\n",
    "#plot2.add_points(e1, shading={\"point_color\": \"yellow\", \"point_size\": 2})\n",
    "#plot2.save(\"col_xcylinder\")"
   ]
  },
  {
   "cell_type": "code",
   "execution_count": 65,
   "metadata": {},
   "outputs": [
    {
     "name": "stdout",
     "output_type": "stream",
     "text": [
      "[2020-05-23 17:34:28.339] [polyfem] [info] simplex_count: \t6930\n",
      "[2020-05-23 17:34:28.339] [polyfem] [info] regular_count: \t0\n",
      "[2020-05-23 17:34:28.339] [polyfem] [info] regular_boundary_count: \t0\n",
      "[2020-05-23 17:34:28.339] [polyfem] [info] simple_singular_count: \t0\n",
      "[2020-05-23 17:34:28.339] [polyfem] [info] multi_singular_count: \t0\n",
      "[2020-05-23 17:34:28.339] [polyfem] [info] boundary_count: \t0\n",
      "[2020-05-23 17:34:28.339] [polyfem] [info] multi_singular_boundary_count: \t0\n",
      "[2020-05-23 17:34:28.339] [polyfem] [info] non_regular_count: \t0\n",
      "[2020-05-23 17:34:28.339] [polyfem] [info] non_regular_boundary_count: \t0\n",
      "[2020-05-23 17:34:28.339] [polyfem] [info] undefined_count: \t0\n",
      "[2020-05-23 17:34:28.339] [polyfem] [info] total count:\t 6930\n",
      "[2020-05-23 17:34:28.339] [polyfem] [info] Building isoparametric basis...\n",
      "[2020-05-23 17:34:28.382] [polyfem] [info] Computing polygonal basis...\n",
      "[2020-05-23 17:34:28.384] [polyfem] [info]  took 0.00238643s\n",
      "[2020-05-23 17:34:28.387] [polyfem] [info] hmin: 0.0331849\n",
      "[2020-05-23 17:34:28.387] [polyfem] [info] hmax: 0.205798\n",
      "[2020-05-23 17:34:28.387] [polyfem] [info] havg: 0.106295\n",
      "[2020-05-23 17:34:28.393] [polyfem] [info]  took 0.042274s\n",
      "[2020-05-23 17:34:28.393] [polyfem] [info] flipped elements 0\n",
      "[2020-05-23 17:34:28.393] [polyfem] [info] h: 0.205798\n",
      "[2020-05-23 17:34:28.393] [polyfem] [info] n bases: 1565\n",
      "[2020-05-23 17:34:28.393] [polyfem] [info] n pressure bases: 0\n",
      "[2020-05-23 17:34:28.393] [polyfem] [info] Assigning rhs...\n",
      "[2020-05-23 17:34:28.403] [polyfem] [info]  took 0.00938537s\n",
      "[2020-05-23 17:34:28.403] [polyfem] [info] Assembling stiffness mat...\n",
      "[2020-05-23 17:34:28.497] [polyfem] [info]  took 0.0946446s\n",
      "[2020-05-23 17:34:28.497] [polyfem] [info] sparsity: 178921/22043025\n",
      "[2020-05-23 17:34:28.497] [polyfem] [info] Solving LinearElasticity with\n",
      "[2020-05-23 17:34:28.497] [polyfem] [info] Hypre...\n"
     ]
    }
   ],
   "source": [
    "settings = pf.Settings()\n",
    "problem = pf.Problem()\n",
    "\n",
    "settings.set_pde(pf.PDEs.LinearElasticity)\n",
    "\n",
    "settings.set_material_params(\"E\", 200)\n",
    "settings.set_material_params(\"nu\", 0.35)\n",
    "\n",
    "# set the displacement value for the sideset id\n",
    "problem.set_displacement(2, [0, 0, 0])\n",
    "problem.set_force(1, [0, 0.5, 0])\n",
    "\n",
    "settings.set_problem(problem)\n",
    "\n",
    "solver.settings(settings)\n",
    "solver.solve()\n",
    "\n",
    "p, tri, disp = solver.get_sampled_solution()\n",
    "m = np.linalg.norm(disp, axis=1)"
   ]
  },
  {
   "cell_type": "code",
   "execution_count": 66,
   "metadata": {},
   "outputs": [
    {
     "data": {
      "application/vnd.jupyter.widget-view+json": {
       "model_id": "9e219e57ea39414193c51ba3fd39f0ed",
       "version_major": 2,
       "version_minor": 0
      },
      "text/plain": [
       "Renderer(camera=PerspectiveCamera(children=(DirectionalLight(color='white', intensity=0.6, position=(-0.018172…"
      ]
     },
     "metadata": {},
     "output_type": "display_data"
    },
    {
     "name": "stdout",
     "output_type": "stream",
     "text": [
      "Plot saved to file cylinder_[0,0.5,0].html.\n"
     ]
    }
   ],
   "source": [
    "plot = mp.plot(v=p+disp, f=tri, c=m, return_plot=True)\n",
    "#plot.add_points(e1, shading={\"point_color\": \"yellow\", \"point_size\": 1});\n",
    "#plot.add_points(e2, shading={\"point_color\": \"red\", \"point_size\": 1});\n",
    "#plot.add_points(e3, shading={\"point_color\": \"green\", \"point_size\": 1});\n",
    "plot.save(\"cylinder_[0,0.5,0]\")"
   ]
  },
  {
   "cell_type": "code",
   "execution_count": null,
   "metadata": {},
   "outputs": [],
   "source": []
  }
 ],
 "metadata": {
  "kernelspec": {
   "display_name": "Python 3",
   "language": "python",
   "name": "python3"
  },
  "language_info": {
   "codemirror_mode": {
    "name": "ipython",
    "version": 3
   },
   "file_extension": ".py",
   "mimetype": "text/x-python",
   "name": "python",
   "nbconvert_exporter": "python",
   "pygments_lexer": "ipython3",
   "version": "3.8.2"
  }
 },
 "nbformat": 4,
 "nbformat_minor": 4
}
